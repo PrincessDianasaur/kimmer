{
 "cells": [
  {
   "cell_type": "markdown",
   "metadata": {},
   "source": [
    "# MRN Normalization\n",
    "\n",
    "1.  Loading data into a gene expression matrix.\n",
    "2.  Munging data\n",
    "3.  MRN Normalization\n",
    "4.  Quick shot at maching learning.\n",
    "\n",
    "\"Trimmed Mean of M-values\" (TMM) normalization, published by [Robinson and Oshlack](https://www.frontiersin.org/articles/10.3389/fgene.2016.00164/full#B16) is a widely used method of normalizing gene expression in scRNA data.  A variant called MRN (Median Ratio Normalization) is described by [Maza et al.](https://www.tandfonline.com/doi/full/10.4161/cib.25849), and may perform slightly better than TMM.  We carry out MRN normalization on the P1902 scRNA data, and use the results in a quick machine learning application."
   ]
  },
  {
   "cell_type": "markdown",
   "metadata": {},
   "source": [
    "#### Notebook created by Marty, step v-vii by Diana"
   ]
  },
  {
   "cell_type": "code",
   "execution_count": 1,
   "metadata": {},
   "outputs": [],
   "source": [
    "#Import packages.  Put plots \"inline\" in the notebook.  \n",
    "\n",
    "import numpy as np  # For numerical computations.\n",
    "import pandas as pd  # Pandas for data analysis.\n",
    "import matplotlib.pyplot as plt  # For basic plotting.\n",
    "import seaborn as sns # For pretty visualization in Seaborn.  See https://seaborn.pydata.org/\n",
    "\n",
    "import os # Working with file directories, etc.\n",
    "\n",
    "from IPython.display import display # Pretty display of data frames.\n",
    "\n",
    "# Put plots inline rather than in a pop-up.\n",
    "%matplotlib inline"
   ]
  },
  {
   "cell_type": "markdown",
   "metadata": {},
   "source": [
    "Go to section 2, if you have already loaded the data and have the pickles."
   ]
  },
  {
   "cell_type": "markdown",
   "metadata": {},
   "source": [
    "# 1.  Loading the data\n",
    "\n",
    "Start at section 2, if the raw data has already been processed and pickled.\n",
    "\n",
    "In this section, we load the gene expression data and some metadata.  The sequencing data is stored in a series of quant.sf files, one for each cell.  The metadata is stored in a separate file.  We use the metadata to select single-cells from an experiment.  The first function loads the metadata."
   ]
  },
  {
   "cell_type": "code",
   "execution_count": null,
   "metadata": {},
   "outputs": [],
   "source": [
    "def get_meta(experiment, filename = 'META_DATA_InVitro.csv', report=True, bulks = False):\n",
    "    df = pd.read_csv(filename, sep=',',\n",
    "                     index_col=2, header=0, low_memory=False)\n",
    "    df = df[ df['Project_ID'] == experiment] # Only cells from the experiment.\n",
    "    if bulks:\n",
    "        df = df[ df['Number_Of_Cells'] > 1] # Include only bulks.\n",
    "    else:\n",
    "        df = df[ df['Number_Of_Cells'] == 1] # Get rid of bulks.\n",
    "    if report:\n",
    "        if bulks:\n",
    "            print('{} bulks found in experiment {}'.format(len(df), experiment))\n",
    "        else:\n",
    "            print('{} single cells found in experiment {}'.format(len(df), experiment))\n",
    "        clones = df['Clone_ID'].unique()\n",
    "        print('{} Clones: {}'.format(len(clones), ', '.join(clones)))\n",
    "        print('The first five rows of the dataframe are below')\n",
    "        display(df[:5])\n",
    "    return df"
   ]
  },
  {
   "cell_type": "code",
   "execution_count": null,
   "metadata": {},
   "outputs": [],
   "source": [
    "meta_df = get_meta('P1902', filename = 'META_DATA_MARTY_InVitro_FEB8.csv')"
   ]
  },
  {
   "cell_type": "code",
   "execution_count": null,
   "metadata": {},
   "outputs": [],
   "source": [
    "meta_bulks = get_meta('P1902', filename = 'META_DATA_MARTY_InVitro_FEB8.csv', bulks=True)"
   ]
  },
  {
   "cell_type": "markdown",
   "metadata": {},
   "source": [
    "The sequencing data (in a quant.sf file) contains a separate row for each *isoform* of each gene.  The name of each row contains various information (separated by pipe-characters), from which we extract the gene name."
   ]
  },
  {
   "cell_type": "code",
   "execution_count": null,
   "metadata": {},
   "outputs": [],
   "source": [
    "def get_genename(longname):\n",
    "    split_name = longname.split('|') # Separate by pipe\n",
    "    if len(split_name) >= 5: # Avoid spike-ins.\n",
    "        return split_name[5] # Gene name happens to be in 5th slot.\n",
    "    else:\n",
    "        return 'notagene'"
   ]
  },
  {
   "cell_type": "markdown",
   "metadata": {},
   "source": [
    "The following function locates a quant.sf file from a cell name.  This is dependent on the directory structure.  Once located, the data is loaded into a data frame and output."
   ]
  },
  {
   "cell_type": "code",
   "execution_count": null,
   "metadata": {},
   "outputs": [],
   "source": [
    "def load_cell(sample_id):\n",
    "    path = sample_id[:5]\n",
    "    folderlist = os.listdir(path)\n",
    "    folders = [f for f in folderlist if sample_id in f]\n",
    "    if len(folders) == 0:\n",
    "        raise FileNotFoundError('Cell data not found')\n",
    "        return None\n",
    "    elif len(folders) > 1:\n",
    "        print('Multiple files found, and I cannot choose.')\n",
    "        return None\n",
    "    else:\n",
    "        cwd = os.getcwd()\n",
    "        path_to_cell = os.path.join(path,folders[0],'quant.sf')\n",
    "        df = pd.read_csv(path_to_cell, sep='\\t',\n",
    "                         index_col=0, header=0, low_memory=False)\n",
    "        df.index = [get_genename(longname) for longname in df.index]\n",
    "        df = df.loc[ df.index != 'notagene']\n",
    "        df.name = sample_id\n",
    "        return df"
   ]
  },
  {
   "cell_type": "markdown",
   "metadata": {},
   "source": [
    "The data for each cell is complicated -- more than we need to work with.  We care about the counts for each gene, putting all isoforms together at the moment.  The following function takes a dataframe for a cell, and outputs a series of gene expressions, indexed by genes.  We use the raw number of reads here, for use in TMM normalization later."
   ]
  },
  {
   "cell_type": "code",
   "execution_count": null,
   "metadata": {},
   "outputs": [],
   "source": [
    "def get_reads(cell, verbose = False):\n",
    "    cg = cell.groupby(cell.index)['NumReads'].sum()\n",
    "    cg.name = cell.name\n",
    "    if verbose:\n",
    "        print('Gene expression (NumReads) found for {} genes.'.format(len(cg)))\n",
    "        print('{0:2.0%} of expressions are zero.'.format(cg.astype(bool).sum() / len(cg)))\n",
    "    return cg"
   ]
  },
  {
   "cell_type": "markdown",
   "metadata": {},
   "source": [
    "The next function loads an entire *list* of cells, and places their gene expression data into the rows of a matrix.  The rows are indexed by the cell names, and the columns by genes.  The data is the gene expression, as raw number of reads.  This may take a little while, so we give progress updates every 10 cells."
   ]
  },
  {
   "cell_type": "code",
   "execution_count": null,
   "metadata": {},
   "outputs": [],
   "source": [
    "def expression_matrix(cell_list):\n",
    "    list_of_df = []\n",
    "    cells_processed = 0\n",
    "    for cell_name in cell_list:\n",
    "        cell = load_cell(cell_name)\n",
    "        list_of_df.append(get_reads(cell, verbose=False))\n",
    "        cells_processed += 1\n",
    "        if cells_processed % 10 == 0:\n",
    "            cells_remaining = len(cell_list) - cells_processed\n",
    "            print('{} cells processed and {} cells remaining.'.format(cells_processed, cells_remaining))\n",
    "    return pd.concat(list_of_df, axis=1).transpose()"
   ]
  },
  {
   "cell_type": "code",
   "execution_count": null,
   "metadata": {
    "scrolled": true
   },
   "outputs": [],
   "source": [
    "EM_raw = expression_matrix(list(meta_df.index))"
   ]
  },
  {
   "cell_type": "code",
   "execution_count": null,
   "metadata": {},
   "outputs": [],
   "source": [
    "EMbulks_raw = expression_matrix(list(meta_bulks.index))"
   ]
  },
  {
   "cell_type": "code",
   "execution_count": null,
   "metadata": {},
   "outputs": [],
   "source": [
    "EM_raw.to_pickle('P1902_EM_rawreads.pkl') # Save file as a pickle.\n",
    "EMbulks_raw.to_pickle('P1902_EMbulks_rawreads.pkl') # Save file as a pickle.\n",
    "meta_df.to_pickle('P1902_meta.pkl') # Pickle the metadata too."
   ]
  },
  {
   "cell_type": "markdown",
   "metadata": {},
   "source": [
    "# 2.  Munging data\n",
    "\n",
    "Start here if you have the pickles!  We filter the data a bit, before normalization downstream."
   ]
  },
  {
   "cell_type": "code",
   "execution_count": 2,
   "metadata": {
    "scrolled": false
   },
   "outputs": [],
   "source": [
    "EM_raw = pd.read_pickle('P1902_EM_rawreads.pkl') # Load expression matrix from a pickle.\n",
    "EMbulks_raw = pd.read_pickle('P1902_EMbulks_raw.pkl') # Load bulks expression matrix from a pickle.\n",
    "meta_df = pd.read_pickle('P1902_meta.pkl') # Load metadata from a pickle."
   ]
  },
  {
   "cell_type": "code",
   "execution_count": 3,
   "metadata": {},
   "outputs": [],
   "source": [
    "genes = list(EM_raw.columns)  # The names of the genes. \n",
    "cells = list(EM_raw.index) # The names of the cells.\n",
    "bulks = list(EMbulks_raw.index) # The names of the bulks.\n",
    "clones = sorted(list(meta_df.Clone_ID.unique())) # The names of the clones."
   ]
  },
  {
   "cell_type": "markdown",
   "metadata": {},
   "source": [
    "## Removing TCRs and rarely-expressed genes\n",
    "\n",
    "T cells have special genetically rearranged receptors called TCRs.  These are made of segments called TRBV9, TRBJ2-4, TRAV12-2, TRAJ14, etc.  Bascally any gene that is called these letters followed by a number -- TRBV, TRBJ, TRAV, TRAJ -- is part of this receptor and they are defined as being clonal.  Therefore we exclude these genes since we want to find more interesting similarities within clonal populations.\n",
    "\n",
    "The following loads a list of genes to be excluded from the data for later analysis.  The excluded genes should be given in a csv file with *one* column.  No row labels should be given.  The first row should be a descriptive header, like \"Genes to exclude.\""
   ]
  },
  {
   "cell_type": "code",
   "execution_count": 4,
   "metadata": {},
   "outputs": [],
   "source": [
    "exc_filename = 'TRgenes.csv'  # CHANGE this if needed.  I added TRAC and TRDV3 as requested.\n",
    "exc_df = pd.read_csv(exc_filename, sep=',', header=0)\n",
    "exclude_genes = exc_df.iloc[:,0].tolist()"
   ]
  },
  {
   "cell_type": "code",
   "execution_count": 5,
   "metadata": {
    "scrolled": true
   },
   "outputs": [
    {
     "data": {
      "text/plain": [
       "True"
      ]
     },
     "execution_count": 5,
     "metadata": {},
     "output_type": "execute_result"
    }
   ],
   "source": [
    "'TRAC' in exclude_genes # Just checking."
   ]
  },
  {
   "cell_type": "code",
   "execution_count": 6,
   "metadata": {},
   "outputs": [],
   "source": [
    "def get_relevant(gf, eg, prevalence=0.05, threshold = 10):\n",
    "    '''\n",
    "    Outputs True if the gene is relevant for analysis.  We throw out excluded genes.\n",
    "    By default, we take genes that are found in at least 5% of all cells at a level of\n",
    "    10 counts or more.\n",
    "    '''\n",
    "    nonzero_count = (gf > threshold).sum(axis=0)\n",
    "    nonzero_proportion = nonzero_count / len(gf)\n",
    "    return [gene for gene in gf.columns if\n",
    "           (gene not in eg) and \n",
    "           (nonzero_proportion[gene] > prevalence)]"
   ]
  },
  {
   "cell_type": "code",
   "execution_count": 7,
   "metadata": {},
   "outputs": [],
   "source": [
    "genes_relevant = get_relevant(EM_raw, exclude_genes)"
   ]
  },
  {
   "cell_type": "code",
   "execution_count": 8,
   "metadata": {},
   "outputs": [
    {
     "name": "stdout",
     "output_type": "stream",
     "text": [
      "361 cells are measured, from P1902_1289 to P1902_1672.\n",
      "9 bulks are measured, from P1902_1380 to P1902_1668.\n",
      "20209 genes are measured, from A1BG to ZZZ3.\n",
      "194 TCR genes were excluded, from TRGC1 to TRDV3.\n",
      "8627 genes are considered relevant, from A1BG to ZZZ3.\n"
     ]
    }
   ],
   "source": [
    "print(\"{} cells are measured, from {} to {}.\".format(len(cells), cells[0], cells[-1]))\n",
    "print(\"{} bulks are measured, from {} to {}.\".format(len(bulks), bulks[0], bulks[-1]))\n",
    "print(\"{} genes are measured, from {} to {}.\".format(len(genes),genes[0],genes[-1]))\n",
    "genes_excluded = [gene for gene in exclude_genes if gene in genes]\n",
    "print(\"{} TCR genes were excluded, from {} to {}.\".format(len(genes_excluded), genes_excluded[0], genes_excluded[-1]))\n",
    "print(\"{} genes are considered relevant, from {} to {}.\".format(len(genes_relevant), genes_relevant[0], genes_relevant[-1]))"
   ]
  },
  {
   "cell_type": "markdown",
   "metadata": {},
   "source": [
    "## Removing poor quality libraries and overexpressing cells\n",
    "\n",
    "Next we remove poor quality libraries -- by removing cells which express too few genes.  We also remove cells that may be dividing, and thus express too many genes.  To visualize this, we produce \"violin-plots\" giving the number of genes expressed by each cell, sorted by clonality."
   ]
  },
  {
   "cell_type": "code",
   "execution_count": 9,
   "metadata": {},
   "outputs": [],
   "source": [
    "def nGene(ge, md, cutoff = 10, plot=True):\n",
    "    nG = ge.apply(lambda row: sum(row > cutoff), axis=1) # Number of genes expressed.\n",
    "    nG.name = 'num_genes'\n",
    "    clonalities = md.Clone_ID\n",
    "    nGene_df = pd.concat([nG, clonalities], axis=1)\n",
    "    if plot:\n",
    "        fig,ax = plt.subplots(figsize=(12,8))\n",
    "        sns.violinplot(x=\"Clone_ID\", y=\"num_genes\", inner='quartiles', data=nGene_df, ax=ax)\n",
    "        sns.swarmplot(x=\"Clone_ID\", y=\"num_genes\", color=\"white\", size=3, data=nGene_df, ax=ax);\n",
    "    return nGene_df"
   ]
  },
  {
   "cell_type": "code",
   "execution_count": 10,
   "metadata": {
    "scrolled": false
   },
   "outputs": [
    {
     "data": {
      "image/png": "[encoded data removed]",
      "text/plain": [
       "<Figure size 864x576 with 1 Axes>"
      ]
     },
     "metadata": {
      "needs_background": "light"
     },
     "output_type": "display_data"
    }
   ],
   "source": [
    "nG = nGene(EM_raw, meta_df)"
   ]
  },
  {
   "cell_type": "markdown",
   "metadata": {},
   "source": [
    "Now we pick out the \"good cells\", whose expressed-gene-number is within two standard deviations of the mean (within each clone)."
   ]
  },
  {
   "cell_type": "code",
   "execution_count": 11,
   "metadata": {},
   "outputs": [
    {
     "name": "stdout",
     "output_type": "stream",
     "text": [
      "346 cells remaining after 15 poor libraries removed.\n"
     ]
    }
   ],
   "source": [
    "nG_std = nG.groupby('Clone_ID').apply(np.std)\n",
    "nG_means = nG.groupby('Clone_ID').apply(np.mean)\n",
    "nG_lowcut = (nG_means - 2*nG_std).num_genes\n",
    "nG_highcut = (nG_means + 2*nG_std).num_genes\n",
    "cells_good = [c for c in cells if \n",
    "              (nG.num_genes[c] >= nG_lowcut[nG.Clone_ID[c]]) and \n",
    "              (nG.num_genes[c] <= nG_highcut[nG.Clone_ID[c]]) \n",
    "             ]\n",
    "print('{} cells remaining after {} poor libraries removed.'.format(len(cells_good), len(cells) - len(cells_good)))"
   ]
  },
  {
   "cell_type": "code",
   "execution_count": 12,
   "metadata": {
    "scrolled": false
   },
   "outputs": [
    {
     "data": {
      "image/png": "[encoded data removed]",
      "text/plain": [
       "<Figure size 864x576 with 1 Axes>"
      ]
     },
     "metadata": {
      "needs_background": "light"
     },
     "output_type": "display_data"
    }
   ],
   "source": [
    "nG = nGene(EM_raw.loc[cells_good], meta_df.loc[cells_good]) # Post-trimming violin-plot."
   ]
  },
  {
   "cell_type": "markdown",
   "metadata": {},
   "source": [
    "#  3.  MRN Normalization.\n",
    "\n",
    "Here we implement MRN Normalization on the gene expression data, closely following the convenient outline in Section 3.2 of [Maza](https://www.frontiersin.org/articles/10.3389/fgene.2016.00164/full).  We begin by putting our filtered data into a dataframe.  The dataframe `X` (stands for \"expression matrix\") contains the gene expressions for the cells, filtered as above."
   ]
  },
  {
   "cell_type": "code",
   "execution_count": 13,
   "metadata": {},
   "outputs": [],
   "source": [
    "X = EM_raw[genes_relevant].loc[cells_good]"
   ]
  },
  {
   "cell_type": "code",
   "execution_count": 14,
   "metadata": {
    "scrolled": true
   },
   "outputs": [
    {
     "data": {
      "text/html": [
       "<div>\n",
       "<style scoped>\n",
       "    .dataframe tbody tr th:only-of-type {\n",
       "        vertical-align: middle;\n",
       "    }\n",
       "\n",
       "    .dataframe tbody tr th {\n",
       "        vertical-align: top;\n",
       "    }\n",
       "\n",
       "    .dataframe thead th {\n",
       "        text-align: right;\n",
       "    }\n",
       "</style>\n",
       "<table border=\"1\" class=\"dataframe\">\n",
       "  <thead>\n",
       "    <tr style=\"text-align: right;\">\n",
       "      <th></th>\n",
       "      <th>A1BG</th>\n",
       "      <th>A2ML1</th>\n",
       "      <th>AAAS</th>\n",
       "      <th>AAED1</th>\n",
       "      <th>AAGAB</th>\n",
       "      <th>AAK1</th>\n",
       "      <th>AAMDC</th>\n",
       "      <th>AAMP</th>\n",
       "      <th>AAR2</th>\n",
       "      <th>AARD</th>\n",
       "      <th>...</th>\n",
       "      <th>ZSCAN32</th>\n",
       "      <th>ZSWIM1</th>\n",
       "      <th>ZSWIM7</th>\n",
       "      <th>ZSWIM8</th>\n",
       "      <th>ZUFSP</th>\n",
       "      <th>ZWILCH</th>\n",
       "      <th>ZWINT</th>\n",
       "      <th>ZYX</th>\n",
       "      <th>ZZEF1</th>\n",
       "      <th>ZZZ3</th>\n",
       "    </tr>\n",
       "  </thead>\n",
       "  <tbody>\n",
       "    <tr>\n",
       "      <th>P1902_1289</th>\n",
       "      <td>117.0</td>\n",
       "      <td>13.868527</td>\n",
       "      <td>0.0</td>\n",
       "      <td>5.287210</td>\n",
       "      <td>2.000000</td>\n",
       "      <td>12.734072</td>\n",
       "      <td>0.028591</td>\n",
       "      <td>0.0</td>\n",
       "      <td>0.116403</td>\n",
       "      <td>0.001068</td>\n",
       "      <td>...</td>\n",
       "      <td>0.0</td>\n",
       "      <td>1.375365</td>\n",
       "      <td>0.533330</td>\n",
       "      <td>0.0</td>\n",
       "      <td>0.0</td>\n",
       "      <td>1.729030</td>\n",
       "      <td>0.0</td>\n",
       "      <td>3.000001</td>\n",
       "      <td>0.0</td>\n",
       "      <td>0.0</td>\n",
       "    </tr>\n",
       "    <tr>\n",
       "      <th>P1902_1290</th>\n",
       "      <td>0.0</td>\n",
       "      <td>0.029047</td>\n",
       "      <td>0.0</td>\n",
       "      <td>1.299025</td>\n",
       "      <td>0.000000</td>\n",
       "      <td>2.606228</td>\n",
       "      <td>0.005858</td>\n",
       "      <td>0.0</td>\n",
       "      <td>0.000000</td>\n",
       "      <td>0.001885</td>\n",
       "      <td>...</td>\n",
       "      <td>0.0</td>\n",
       "      <td>0.044812</td>\n",
       "      <td>0.056318</td>\n",
       "      <td>0.0</td>\n",
       "      <td>0.0</td>\n",
       "      <td>0.000000</td>\n",
       "      <td>0.0</td>\n",
       "      <td>0.000000</td>\n",
       "      <td>0.0</td>\n",
       "      <td>0.0</td>\n",
       "    </tr>\n",
       "    <tr>\n",
       "      <th>P1902_1291</th>\n",
       "      <td>0.0</td>\n",
       "      <td>6.034052</td>\n",
       "      <td>0.0</td>\n",
       "      <td>8.860240</td>\n",
       "      <td>202.999549</td>\n",
       "      <td>79.964810</td>\n",
       "      <td>4.312488</td>\n",
       "      <td>0.0</td>\n",
       "      <td>0.000000</td>\n",
       "      <td>0.541295</td>\n",
       "      <td>...</td>\n",
       "      <td>0.0</td>\n",
       "      <td>3.498300</td>\n",
       "      <td>12.646880</td>\n",
       "      <td>0.0</td>\n",
       "      <td>0.0</td>\n",
       "      <td>0.002202</td>\n",
       "      <td>0.0</td>\n",
       "      <td>38.000050</td>\n",
       "      <td>0.0</td>\n",
       "      <td>0.0</td>\n",
       "    </tr>\n",
       "    <tr>\n",
       "      <th>P1902_1293</th>\n",
       "      <td>0.0</td>\n",
       "      <td>8.431259</td>\n",
       "      <td>0.0</td>\n",
       "      <td>161.498600</td>\n",
       "      <td>0.000000</td>\n",
       "      <td>114.433240</td>\n",
       "      <td>0.219493</td>\n",
       "      <td>0.0</td>\n",
       "      <td>0.000000</td>\n",
       "      <td>0.034687</td>\n",
       "      <td>...</td>\n",
       "      <td>0.0</td>\n",
       "      <td>0.937325</td>\n",
       "      <td>317.941869</td>\n",
       "      <td>0.0</td>\n",
       "      <td>0.0</td>\n",
       "      <td>0.000000</td>\n",
       "      <td>0.0</td>\n",
       "      <td>0.000000</td>\n",
       "      <td>0.0</td>\n",
       "      <td>0.0</td>\n",
       "    </tr>\n",
       "    <tr>\n",
       "      <th>P1902_1294</th>\n",
       "      <td>0.0</td>\n",
       "      <td>0.157061</td>\n",
       "      <td>0.0</td>\n",
       "      <td>25.756050</td>\n",
       "      <td>0.000000</td>\n",
       "      <td>0.459234</td>\n",
       "      <td>330.002938</td>\n",
       "      <td>0.0</td>\n",
       "      <td>0.016619</td>\n",
       "      <td>4.024350</td>\n",
       "      <td>...</td>\n",
       "      <td>0.0</td>\n",
       "      <td>0.541008</td>\n",
       "      <td>7.773565</td>\n",
       "      <td>0.0</td>\n",
       "      <td>0.0</td>\n",
       "      <td>0.000301</td>\n",
       "      <td>0.0</td>\n",
       "      <td>0.000000</td>\n",
       "      <td>0.0</td>\n",
       "      <td>0.0</td>\n",
       "    </tr>\n",
       "  </tbody>\n",
       "</table>\n",
       "<p>5 rows × 8627 columns</p>\n",
       "</div>"
      ],
      "text/plain": [
       "             A1BG      A2ML1  AAAS       AAED1       AAGAB        AAK1  \\\n",
       "P1902_1289  117.0  13.868527   0.0    5.287210    2.000000   12.734072   \n",
       "P1902_1290    0.0   0.029047   0.0    1.299025    0.000000    2.606228   \n",
       "P1902_1291    0.0   6.034052   0.0    8.860240  202.999549   79.964810   \n",
       "P1902_1293    0.0   8.431259   0.0  161.498600    0.000000  114.433240   \n",
       "P1902_1294    0.0   0.157061   0.0   25.756050    0.000000    0.459234   \n",
       "\n",
       "                 AAMDC  AAMP      AAR2      AARD  ...  ZSCAN32    ZSWIM1  \\\n",
       "P1902_1289    0.028591   0.0  0.116403  0.001068  ...      0.0  1.375365   \n",
       "P1902_1290    0.005858   0.0  0.000000  0.001885  ...      0.0  0.044812   \n",
       "P1902_1291    4.312488   0.0  0.000000  0.541295  ...      0.0  3.498300   \n",
       "P1902_1293    0.219493   0.0  0.000000  0.034687  ...      0.0  0.937325   \n",
       "P1902_1294  330.002938   0.0  0.016619  4.024350  ...      0.0  0.541008   \n",
       "\n",
       "                ZSWIM7  ZSWIM8  ZUFSP    ZWILCH  ZWINT        ZYX  ZZEF1  ZZZ3  \n",
       "P1902_1289    0.533330     0.0    0.0  1.729030    0.0   3.000001    0.0   0.0  \n",
       "P1902_1290    0.056318     0.0    0.0  0.000000    0.0   0.000000    0.0   0.0  \n",
       "P1902_1291   12.646880     0.0    0.0  0.002202    0.0  38.000050    0.0   0.0  \n",
       "P1902_1293  317.941869     0.0    0.0  0.000000    0.0   0.000000    0.0   0.0  \n",
       "P1902_1294    7.773565     0.0    0.0  0.000301    0.0   0.000000    0.0   0.0  \n",
       "\n",
       "[5 rows x 8627 columns]"
      ]
     },
     "execution_count": 14,
     "metadata": {},
     "output_type": "execute_result"
    }
   ],
   "source": [
    "X.head() # Scroll to the right to see the clonotype."
   ]
  },
  {
   "cell_type": "markdown",
   "metadata": {},
   "source": [
    "## Step I:  Prenormalization by library size.\n",
    "\n",
    "In Maza's article, $X_{gkr}$ stands for the raw count (number of reads) of gene $g$, for a cell number $r$ among clone $k$.  This information is contained in our expression matrix `EM`.  The first step is to normalize by library size, dividing $X_{gkr}$ by the total number of reads $N_{kr}$ of cell with numbers $k$, $r$.  \n",
    "\n",
    "We find the total number of reads for each cell by simply summing the numbers in each row of the data frame `X`.  We don't need to worry about the separate indices $k$ and $r$ yet.  We examine the resulting \"library size\" below."
   ]
  },
  {
   "cell_type": "code",
   "execution_count": 15,
   "metadata": {},
   "outputs": [
    {
     "name": "stdout",
     "output_type": "stream",
     "text": [
      "P1902_1289    9.491239e+05\n",
      "P1902_1290    1.006230e+06\n",
      "P1902_1291    1.712718e+06\n",
      "P1902_1293    1.204950e+06\n",
      "P1902_1294    1.000783e+06\n",
      "dtype: float64\n"
     ]
    },
    {
     "data": {
      "text/plain": [
       "count    3.460000e+02\n",
       "mean     1.576863e+06\n",
       "std      5.675479e+05\n",
       "min      3.731761e+05\n",
       "25%      1.154661e+06\n",
       "50%      1.504632e+06\n",
       "75%      1.922721e+06\n",
       "max      3.434468e+06\n",
       "dtype: float64"
      ]
     },
     "execution_count": 15,
     "metadata": {},
     "output_type": "execute_result"
    }
   ],
   "source": [
    "library_size = X.sum(axis=1) # Drop the clone column.  Sum along rows.\n",
    "print(library_size.head())\n",
    "library_size.describe()"
   ]
  },
  {
   "cell_type": "markdown",
   "metadata": {},
   "source": [
    "The library size is about 1.6 million +/- 584,000.  Now we normalize the expression matrix by dividing every cell's raw counts by the cell's library size.  Note that `X` is a data frame whose rows are indexed by the cells.  `library_size` is a series (basically an array) whose rows are indexed by cells.  Numpy/pandas will divide one array by another, term by term, if they have the same size.  So it can divide *each column* of `X` by `library size`, in a quickly-broadcasted division.  To perform this on every column, we use the `apply` method with a \"lambda\" function... it's the quickest method I know."
   ]
  },
  {
   "cell_type": "code",
   "execution_count": 16,
   "metadata": {
    "scrolled": true
   },
   "outputs": [
    {
     "data": {
      "text/html": [
       "<div>\n",
       "<style scoped>\n",
       "    .dataframe tbody tr th:only-of-type {\n",
       "        vertical-align: middle;\n",
       "    }\n",
       "\n",
       "    .dataframe tbody tr th {\n",
       "        vertical-align: top;\n",
       "    }\n",
       "\n",
       "    .dataframe thead th {\n",
       "        text-align: right;\n",
       "    }\n",
       "</style>\n",
       "<table border=\"1\" class=\"dataframe\">\n",
       "  <thead>\n",
       "    <tr style=\"text-align: right;\">\n",
       "      <th></th>\n",
       "      <th>A1BG</th>\n",
       "      <th>A2ML1</th>\n",
       "      <th>AAAS</th>\n",
       "      <th>AAED1</th>\n",
       "      <th>AAGAB</th>\n",
       "      <th>AAK1</th>\n",
       "      <th>AAMDC</th>\n",
       "      <th>AAMP</th>\n",
       "      <th>AAR2</th>\n",
       "      <th>AARD</th>\n",
       "      <th>...</th>\n",
       "      <th>ZSCAN32</th>\n",
       "      <th>ZSWIM1</th>\n",
       "      <th>ZSWIM7</th>\n",
       "      <th>ZSWIM8</th>\n",
       "      <th>ZUFSP</th>\n",
       "      <th>ZWILCH</th>\n",
       "      <th>ZWINT</th>\n",
       "      <th>ZYX</th>\n",
       "      <th>ZZEF1</th>\n",
       "      <th>ZZZ3</th>\n",
       "    </tr>\n",
       "  </thead>\n",
       "  <tbody>\n",
       "    <tr>\n",
       "      <th>P1902_1289</th>\n",
       "      <td>0.000123</td>\n",
       "      <td>1.461192e-05</td>\n",
       "      <td>0.0</td>\n",
       "      <td>0.000006</td>\n",
       "      <td>0.000002</td>\n",
       "      <td>1.341666e-05</td>\n",
       "      <td>3.012325e-08</td>\n",
       "      <td>0.0</td>\n",
       "      <td>1.226426e-07</td>\n",
       "      <td>1.125396e-09</td>\n",
       "      <td>...</td>\n",
       "      <td>0.0</td>\n",
       "      <td>1.449089e-06</td>\n",
       "      <td>5.619182e-07</td>\n",
       "      <td>0.0</td>\n",
       "      <td>0.0</td>\n",
       "      <td>1.821712e-06</td>\n",
       "      <td>0.0</td>\n",
       "      <td>0.000003</td>\n",
       "      <td>0.0</td>\n",
       "      <td>0.0</td>\n",
       "    </tr>\n",
       "    <tr>\n",
       "      <th>P1902_1290</th>\n",
       "      <td>0.000000</td>\n",
       "      <td>2.886682e-08</td>\n",
       "      <td>0.0</td>\n",
       "      <td>0.000001</td>\n",
       "      <td>0.000000</td>\n",
       "      <td>2.590092e-06</td>\n",
       "      <td>5.821623e-09</td>\n",
       "      <td>0.0</td>\n",
       "      <td>0.000000e+00</td>\n",
       "      <td>1.873797e-09</td>\n",
       "      <td>...</td>\n",
       "      <td>0.0</td>\n",
       "      <td>4.453407e-08</td>\n",
       "      <td>5.596913e-08</td>\n",
       "      <td>0.0</td>\n",
       "      <td>0.0</td>\n",
       "      <td>0.000000e+00</td>\n",
       "      <td>0.0</td>\n",
       "      <td>0.000000</td>\n",
       "      <td>0.0</td>\n",
       "      <td>0.0</td>\n",
       "    </tr>\n",
       "    <tr>\n",
       "      <th>P1902_1291</th>\n",
       "      <td>0.000000</td>\n",
       "      <td>3.523085e-06</td>\n",
       "      <td>0.0</td>\n",
       "      <td>0.000005</td>\n",
       "      <td>0.000119</td>\n",
       "      <td>4.668884e-05</td>\n",
       "      <td>2.517921e-06</td>\n",
       "      <td>0.0</td>\n",
       "      <td>0.000000e+00</td>\n",
       "      <td>3.160444e-07</td>\n",
       "      <td>...</td>\n",
       "      <td>0.0</td>\n",
       "      <td>2.042543e-06</td>\n",
       "      <td>7.384099e-06</td>\n",
       "      <td>0.0</td>\n",
       "      <td>0.0</td>\n",
       "      <td>1.285670e-09</td>\n",
       "      <td>0.0</td>\n",
       "      <td>0.000022</td>\n",
       "      <td>0.0</td>\n",
       "      <td>0.0</td>\n",
       "    </tr>\n",
       "    <tr>\n",
       "      <th>P1902_1293</th>\n",
       "      <td>0.000000</td>\n",
       "      <td>6.997184e-06</td>\n",
       "      <td>0.0</td>\n",
       "      <td>0.000134</td>\n",
       "      <td>0.000000</td>\n",
       "      <td>9.496927e-05</td>\n",
       "      <td>1.821594e-07</td>\n",
       "      <td>0.0</td>\n",
       "      <td>0.000000e+00</td>\n",
       "      <td>2.878733e-08</td>\n",
       "      <td>...</td>\n",
       "      <td>0.0</td>\n",
       "      <td>7.778954e-07</td>\n",
       "      <td>2.638631e-04</td>\n",
       "      <td>0.0</td>\n",
       "      <td>0.0</td>\n",
       "      <td>0.000000e+00</td>\n",
       "      <td>0.0</td>\n",
       "      <td>0.000000</td>\n",
       "      <td>0.0</td>\n",
       "      <td>0.0</td>\n",
       "    </tr>\n",
       "    <tr>\n",
       "      <th>P1902_1294</th>\n",
       "      <td>0.000000</td>\n",
       "      <td>1.569382e-07</td>\n",
       "      <td>0.0</td>\n",
       "      <td>0.000026</td>\n",
       "      <td>0.000000</td>\n",
       "      <td>4.588748e-07</td>\n",
       "      <td>3.297448e-04</td>\n",
       "      <td>0.0</td>\n",
       "      <td>1.660620e-08</td>\n",
       "      <td>4.021202e-06</td>\n",
       "      <td>...</td>\n",
       "      <td>0.0</td>\n",
       "      <td>5.405849e-07</td>\n",
       "      <td>7.767485e-06</td>\n",
       "      <td>0.0</td>\n",
       "      <td>0.0</td>\n",
       "      <td>3.005597e-10</td>\n",
       "      <td>0.0</td>\n",
       "      <td>0.000000</td>\n",
       "      <td>0.0</td>\n",
       "      <td>0.0</td>\n",
       "    </tr>\n",
       "  </tbody>\n",
       "</table>\n",
       "<p>5 rows × 8627 columns</p>\n",
       "</div>"
      ],
      "text/plain": [
       "                A1BG         A2ML1  AAAS     AAED1     AAGAB          AAK1  \\\n",
       "P1902_1289  0.000123  1.461192e-05   0.0  0.000006  0.000002  1.341666e-05   \n",
       "P1902_1290  0.000000  2.886682e-08   0.0  0.000001  0.000000  2.590092e-06   \n",
       "P1902_1291  0.000000  3.523085e-06   0.0  0.000005  0.000119  4.668884e-05   \n",
       "P1902_1293  0.000000  6.997184e-06   0.0  0.000134  0.000000  9.496927e-05   \n",
       "P1902_1294  0.000000  1.569382e-07   0.0  0.000026  0.000000  4.588748e-07   \n",
       "\n",
       "                   AAMDC  AAMP          AAR2          AARD  ...  ZSCAN32  \\\n",
       "P1902_1289  3.012325e-08   0.0  1.226426e-07  1.125396e-09  ...      0.0   \n",
       "P1902_1290  5.821623e-09   0.0  0.000000e+00  1.873797e-09  ...      0.0   \n",
       "P1902_1291  2.517921e-06   0.0  0.000000e+00  3.160444e-07  ...      0.0   \n",
       "P1902_1293  1.821594e-07   0.0  0.000000e+00  2.878733e-08  ...      0.0   \n",
       "P1902_1294  3.297448e-04   0.0  1.660620e-08  4.021202e-06  ...      0.0   \n",
       "\n",
       "                  ZSWIM1        ZSWIM7  ZSWIM8  ZUFSP        ZWILCH  ZWINT  \\\n",
       "P1902_1289  1.449089e-06  5.619182e-07     0.0    0.0  1.821712e-06    0.0   \n",
       "P1902_1290  4.453407e-08  5.596913e-08     0.0    0.0  0.000000e+00    0.0   \n",
       "P1902_1291  2.042543e-06  7.384099e-06     0.0    0.0  1.285670e-09    0.0   \n",
       "P1902_1293  7.778954e-07  2.638631e-04     0.0    0.0  0.000000e+00    0.0   \n",
       "P1902_1294  5.405849e-07  7.767485e-06     0.0    0.0  3.005597e-10    0.0   \n",
       "\n",
       "                 ZYX  ZZEF1  ZZZ3  \n",
       "P1902_1289  0.000003    0.0   0.0  \n",
       "P1902_1290  0.000000    0.0   0.0  \n",
       "P1902_1291  0.000022    0.0   0.0  \n",
       "P1902_1293  0.000000    0.0   0.0  \n",
       "P1902_1294  0.000000    0.0   0.0  \n",
       "\n",
       "[5 rows x 8627 columns]"
      ]
     },
     "execution_count": 16,
     "metadata": {},
     "output_type": "execute_result"
    }
   ],
   "source": [
    "Y = X.apply(lambda column : column / library_size)\n",
    "Y.head()"
   ]
  },
  {
   "cell_type": "markdown",
   "metadata": {},
   "source": [
    "Now `Y` is the dataframe with counts normalized by library size, and we pass to the next step."
   ]
  },
  {
   "cell_type": "markdown",
   "metadata": {},
   "source": [
    "## Step II:  Creation of reference sample.\n",
    "\n",
    "A difference between TMM (used in edgeR), RLE (used in DeSeq2), and MRN, is how they create a reference sample.  In MRN, a reference sample is created by averaging the previous dataframe `Y` over cells within a single condition (clone).  We carry this out here.\n",
    "\n",
    "Note the method-chaining in defining `Y_clonal` below.  The `assign` method tacks on a new column to `Y` for the clone_IDs.  The `groupby` method then groups cells by clonotypes.  The `apply` method then takes the means within each clonotype.  The end result is to replace the (prenormalized) gene expression for *each cell* by the averages for each clonotype.  "
   ]
  },
  {
   "cell_type": "code",
   "execution_count": 17,
   "metadata": {
    "scrolled": false
   },
   "outputs": [
    {
     "data": {
      "text/html": [
       "<div>\n",
       "<style scoped>\n",
       "    .dataframe tbody tr th:only-of-type {\n",
       "        vertical-align: middle;\n",
       "    }\n",
       "\n",
       "    .dataframe tbody tr th {\n",
       "        vertical-align: top;\n",
       "    }\n",
       "\n",
       "    .dataframe thead th {\n",
       "        text-align: right;\n",
       "    }\n",
       "</style>\n",
       "<table border=\"1\" class=\"dataframe\">\n",
       "  <thead>\n",
       "    <tr style=\"text-align: right;\">\n",
       "      <th></th>\n",
       "      <th>A1BG</th>\n",
       "      <th>A2ML1</th>\n",
       "      <th>AAAS</th>\n",
       "      <th>AAED1</th>\n",
       "      <th>AAGAB</th>\n",
       "      <th>AAK1</th>\n",
       "      <th>AAMDC</th>\n",
       "      <th>AAMP</th>\n",
       "      <th>AAR2</th>\n",
       "      <th>AARD</th>\n",
       "      <th>...</th>\n",
       "      <th>ZSCAN32</th>\n",
       "      <th>ZSWIM1</th>\n",
       "      <th>ZSWIM7</th>\n",
       "      <th>ZSWIM8</th>\n",
       "      <th>ZUFSP</th>\n",
       "      <th>ZWILCH</th>\n",
       "      <th>ZWINT</th>\n",
       "      <th>ZYX</th>\n",
       "      <th>ZZEF1</th>\n",
       "      <th>ZZZ3</th>\n",
       "    </tr>\n",
       "    <tr>\n",
       "      <th>Clone</th>\n",
       "      <th></th>\n",
       "      <th></th>\n",
       "      <th></th>\n",
       "      <th></th>\n",
       "      <th></th>\n",
       "      <th></th>\n",
       "      <th></th>\n",
       "      <th></th>\n",
       "      <th></th>\n",
       "      <th></th>\n",
       "      <th></th>\n",
       "      <th></th>\n",
       "      <th></th>\n",
       "      <th></th>\n",
       "      <th></th>\n",
       "      <th></th>\n",
       "      <th></th>\n",
       "      <th></th>\n",
       "      <th></th>\n",
       "      <th></th>\n",
       "      <th></th>\n",
       "    </tr>\n",
       "  </thead>\n",
       "  <tbody>\n",
       "    <tr>\n",
       "      <th>A7</th>\n",
       "      <td>0.000033</td>\n",
       "      <td>1.849234e-06</td>\n",
       "      <td>0.000014</td>\n",
       "      <td>0.000090</td>\n",
       "      <td>0.000061</td>\n",
       "      <td>0.000079</td>\n",
       "      <td>2.172950e-05</td>\n",
       "      <td>0.000083</td>\n",
       "      <td>0.000026</td>\n",
       "      <td>8.264517e-07</td>\n",
       "      <td>...</td>\n",
       "      <td>6.515959e-06</td>\n",
       "      <td>3.279755e-06</td>\n",
       "      <td>0.000011</td>\n",
       "      <td>0.000022</td>\n",
       "      <td>0.000042</td>\n",
       "      <td>0.000033</td>\n",
       "      <td>1.131244e-04</td>\n",
       "      <td>0.000049</td>\n",
       "      <td>2.446727e-05</td>\n",
       "      <td>0.000040</td>\n",
       "    </tr>\n",
       "    <tr>\n",
       "      <th>A8</th>\n",
       "      <td>0.000009</td>\n",
       "      <td>1.771044e-06</td>\n",
       "      <td>0.000021</td>\n",
       "      <td>0.000074</td>\n",
       "      <td>0.000183</td>\n",
       "      <td>0.000067</td>\n",
       "      <td>7.816341e-07</td>\n",
       "      <td>0.000086</td>\n",
       "      <td>0.000088</td>\n",
       "      <td>1.228354e-06</td>\n",
       "      <td>...</td>\n",
       "      <td>3.607288e-05</td>\n",
       "      <td>4.718368e-07</td>\n",
       "      <td>0.000023</td>\n",
       "      <td>0.000017</td>\n",
       "      <td>0.000025</td>\n",
       "      <td>0.000020</td>\n",
       "      <td>0.000000e+00</td>\n",
       "      <td>0.000090</td>\n",
       "      <td>1.406587e-05</td>\n",
       "      <td>0.000006</td>\n",
       "    </tr>\n",
       "    <tr>\n",
       "      <th>B4</th>\n",
       "      <td>0.000031</td>\n",
       "      <td>1.991826e-06</td>\n",
       "      <td>0.000036</td>\n",
       "      <td>0.000057</td>\n",
       "      <td>0.000095</td>\n",
       "      <td>0.000069</td>\n",
       "      <td>1.128297e-05</td>\n",
       "      <td>0.000058</td>\n",
       "      <td>0.000057</td>\n",
       "      <td>1.992993e-06</td>\n",
       "      <td>...</td>\n",
       "      <td>3.960894e-05</td>\n",
       "      <td>3.575998e-06</td>\n",
       "      <td>0.000010</td>\n",
       "      <td>0.000018</td>\n",
       "      <td>0.000010</td>\n",
       "      <td>0.000060</td>\n",
       "      <td>1.936374e-04</td>\n",
       "      <td>0.000072</td>\n",
       "      <td>1.149041e-05</td>\n",
       "      <td>0.000012</td>\n",
       "    </tr>\n",
       "    <tr>\n",
       "      <th>E4</th>\n",
       "      <td>0.000006</td>\n",
       "      <td>1.710909e-06</td>\n",
       "      <td>0.000009</td>\n",
       "      <td>0.000080</td>\n",
       "      <td>0.000073</td>\n",
       "      <td>0.000074</td>\n",
       "      <td>5.138985e-06</td>\n",
       "      <td>0.000046</td>\n",
       "      <td>0.000035</td>\n",
       "      <td>1.831048e-06</td>\n",
       "      <td>...</td>\n",
       "      <td>1.672850e-05</td>\n",
       "      <td>3.449031e-06</td>\n",
       "      <td>0.000006</td>\n",
       "      <td>0.000017</td>\n",
       "      <td>0.000015</td>\n",
       "      <td>0.000029</td>\n",
       "      <td>7.424980e-05</td>\n",
       "      <td>0.000024</td>\n",
       "      <td>9.097176e-06</td>\n",
       "      <td>0.000014</td>\n",
       "    </tr>\n",
       "    <tr>\n",
       "      <th>F3</th>\n",
       "      <td>0.000003</td>\n",
       "      <td>1.183032e-06</td>\n",
       "      <td>0.000035</td>\n",
       "      <td>0.000046</td>\n",
       "      <td>0.000069</td>\n",
       "      <td>0.000066</td>\n",
       "      <td>1.947141e-06</td>\n",
       "      <td>0.000116</td>\n",
       "      <td>0.000026</td>\n",
       "      <td>8.954851e-07</td>\n",
       "      <td>...</td>\n",
       "      <td>4.891164e-05</td>\n",
       "      <td>1.520676e-06</td>\n",
       "      <td>0.000012</td>\n",
       "      <td>0.000024</td>\n",
       "      <td>0.000014</td>\n",
       "      <td>0.000033</td>\n",
       "      <td>5.085944e-06</td>\n",
       "      <td>0.000055</td>\n",
       "      <td>3.333018e-05</td>\n",
       "      <td>0.000022</td>\n",
       "    </tr>\n",
       "    <tr>\n",
       "      <th>G6</th>\n",
       "      <td>0.000019</td>\n",
       "      <td>3.258622e-06</td>\n",
       "      <td>0.000041</td>\n",
       "      <td>0.000055</td>\n",
       "      <td>0.000084</td>\n",
       "      <td>0.000028</td>\n",
       "      <td>1.211898e-06</td>\n",
       "      <td>0.000081</td>\n",
       "      <td>0.000012</td>\n",
       "      <td>1.199664e-06</td>\n",
       "      <td>...</td>\n",
       "      <td>3.595306e-05</td>\n",
       "      <td>2.169012e-06</td>\n",
       "      <td>0.000011</td>\n",
       "      <td>0.000018</td>\n",
       "      <td>0.000050</td>\n",
       "      <td>0.000050</td>\n",
       "      <td>0.000000e+00</td>\n",
       "      <td>0.000052</td>\n",
       "      <td>3.745430e-05</td>\n",
       "      <td>0.000035</td>\n",
       "    </tr>\n",
       "    <tr>\n",
       "      <th>G8</th>\n",
       "      <td>0.000002</td>\n",
       "      <td>2.509980e-06</td>\n",
       "      <td>0.000000</td>\n",
       "      <td>0.000075</td>\n",
       "      <td>0.000056</td>\n",
       "      <td>0.000137</td>\n",
       "      <td>3.684549e-07</td>\n",
       "      <td>0.000123</td>\n",
       "      <td>0.000064</td>\n",
       "      <td>1.176179e-06</td>\n",
       "      <td>...</td>\n",
       "      <td>2.887923e-08</td>\n",
       "      <td>4.835308e-06</td>\n",
       "      <td>0.000016</td>\n",
       "      <td>0.000015</td>\n",
       "      <td>0.000032</td>\n",
       "      <td>0.000024</td>\n",
       "      <td>0.000000e+00</td>\n",
       "      <td>0.000006</td>\n",
       "      <td>0.000000e+00</td>\n",
       "      <td>0.000014</td>\n",
       "    </tr>\n",
       "    <tr>\n",
       "      <th>H2</th>\n",
       "      <td>0.000024</td>\n",
       "      <td>7.118831e-07</td>\n",
       "      <td>0.000017</td>\n",
       "      <td>0.000122</td>\n",
       "      <td>0.000118</td>\n",
       "      <td>0.000045</td>\n",
       "      <td>9.610956e-06</td>\n",
       "      <td>0.000042</td>\n",
       "      <td>0.000022</td>\n",
       "      <td>1.521682e-06</td>\n",
       "      <td>...</td>\n",
       "      <td>5.632465e-06</td>\n",
       "      <td>2.215524e-06</td>\n",
       "      <td>0.000037</td>\n",
       "      <td>0.000010</td>\n",
       "      <td>0.000022</td>\n",
       "      <td>0.000035</td>\n",
       "      <td>1.956655e-04</td>\n",
       "      <td>0.000078</td>\n",
       "      <td>2.095809e-07</td>\n",
       "      <td>0.000014</td>\n",
       "    </tr>\n",
       "    <tr>\n",
       "      <th>H9</th>\n",
       "      <td>0.000009</td>\n",
       "      <td>1.273696e-06</td>\n",
       "      <td>0.000010</td>\n",
       "      <td>0.000078</td>\n",
       "      <td>0.000075</td>\n",
       "      <td>0.000066</td>\n",
       "      <td>7.869374e-06</td>\n",
       "      <td>0.000120</td>\n",
       "      <td>0.000020</td>\n",
       "      <td>1.228811e-06</td>\n",
       "      <td>...</td>\n",
       "      <td>2.196204e-05</td>\n",
       "      <td>4.400050e-06</td>\n",
       "      <td>0.000007</td>\n",
       "      <td>0.000006</td>\n",
       "      <td>0.000036</td>\n",
       "      <td>0.000020</td>\n",
       "      <td>1.178874e-08</td>\n",
       "      <td>0.000005</td>\n",
       "      <td>8.385331e-07</td>\n",
       "      <td>0.000024</td>\n",
       "    </tr>\n",
       "  </tbody>\n",
       "</table>\n",
       "<p>9 rows × 8627 columns</p>\n",
       "</div>"
      ],
      "text/plain": [
       "           A1BG         A2ML1      AAAS     AAED1     AAGAB      AAK1  \\\n",
       "Clone                                                                   \n",
       "A7     0.000033  1.849234e-06  0.000014  0.000090  0.000061  0.000079   \n",
       "A8     0.000009  1.771044e-06  0.000021  0.000074  0.000183  0.000067   \n",
       "B4     0.000031  1.991826e-06  0.000036  0.000057  0.000095  0.000069   \n",
       "E4     0.000006  1.710909e-06  0.000009  0.000080  0.000073  0.000074   \n",
       "F3     0.000003  1.183032e-06  0.000035  0.000046  0.000069  0.000066   \n",
       "G6     0.000019  3.258622e-06  0.000041  0.000055  0.000084  0.000028   \n",
       "G8     0.000002  2.509980e-06  0.000000  0.000075  0.000056  0.000137   \n",
       "H2     0.000024  7.118831e-07  0.000017  0.000122  0.000118  0.000045   \n",
       "H9     0.000009  1.273696e-06  0.000010  0.000078  0.000075  0.000066   \n",
       "\n",
       "              AAMDC      AAMP      AAR2          AARD  ...       ZSCAN32  \\\n",
       "Clone                                                  ...                 \n",
       "A7     2.172950e-05  0.000083  0.000026  8.264517e-07  ...  6.515959e-06   \n",
       "A8     7.816341e-07  0.000086  0.000088  1.228354e-06  ...  3.607288e-05   \n",
       "B4     1.128297e-05  0.000058  0.000057  1.992993e-06  ...  3.960894e-05   \n",
       "E4     5.138985e-06  0.000046  0.000035  1.831048e-06  ...  1.672850e-05   \n",
       "F3     1.947141e-06  0.000116  0.000026  8.954851e-07  ...  4.891164e-05   \n",
       "G6     1.211898e-06  0.000081  0.000012  1.199664e-06  ...  3.595306e-05   \n",
       "G8     3.684549e-07  0.000123  0.000064  1.176179e-06  ...  2.887923e-08   \n",
       "H2     9.610956e-06  0.000042  0.000022  1.521682e-06  ...  5.632465e-06   \n",
       "H9     7.869374e-06  0.000120  0.000020  1.228811e-06  ...  2.196204e-05   \n",
       "\n",
       "             ZSWIM1    ZSWIM7    ZSWIM8     ZUFSP    ZWILCH         ZWINT  \\\n",
       "Clone                                                                       \n",
       "A7     3.279755e-06  0.000011  0.000022  0.000042  0.000033  1.131244e-04   \n",
       "A8     4.718368e-07  0.000023  0.000017  0.000025  0.000020  0.000000e+00   \n",
       "B4     3.575998e-06  0.000010  0.000018  0.000010  0.000060  1.936374e-04   \n",
       "E4     3.449031e-06  0.000006  0.000017  0.000015  0.000029  7.424980e-05   \n",
       "F3     1.520676e-06  0.000012  0.000024  0.000014  0.000033  5.085944e-06   \n",
       "G6     2.169012e-06  0.000011  0.000018  0.000050  0.000050  0.000000e+00   \n",
       "G8     4.835308e-06  0.000016  0.000015  0.000032  0.000024  0.000000e+00   \n",
       "H2     2.215524e-06  0.000037  0.000010  0.000022  0.000035  1.956655e-04   \n",
       "H9     4.400050e-06  0.000007  0.000006  0.000036  0.000020  1.178874e-08   \n",
       "\n",
       "            ZYX         ZZEF1      ZZZ3  \n",
       "Clone                                    \n",
       "A7     0.000049  2.446727e-05  0.000040  \n",
       "A8     0.000090  1.406587e-05  0.000006  \n",
       "B4     0.000072  1.149041e-05  0.000012  \n",
       "E4     0.000024  9.097176e-06  0.000014  \n",
       "F3     0.000055  3.333018e-05  0.000022  \n",
       "G6     0.000052  3.745430e-05  0.000035  \n",
       "G8     0.000006  0.000000e+00  0.000014  \n",
       "H2     0.000078  2.095809e-07  0.000014  \n",
       "H9     0.000005  8.385331e-07  0.000024  \n",
       "\n",
       "[9 rows x 8627 columns]"
      ]
     },
     "metadata": {},
     "output_type": "display_data"
    }
   ],
   "source": [
    "Y_clonal = Y.assign(Clone=meta_df['Clone_ID']).groupby('Clone').apply(np.mean) # Takes a few seconds.\n",
    "display(Y_clonal)"
   ]
  },
  {
   "cell_type": "markdown",
   "metadata": {},
   "source": [
    "Let's take our reference sample to be the A7 clonal average."
   ]
  },
  {
   "cell_type": "code",
   "execution_count": 18,
   "metadata": {},
   "outputs": [
    {
     "data": {
      "text/plain": [
       "count    8627.000000\n",
       "mean        0.000116\n",
       "std         0.000822\n",
       "min         0.000000\n",
       "25%         0.000012\n",
       "50%         0.000033\n",
       "75%         0.000082\n",
       "max         0.045092\n",
       "Name: A7, dtype: float64"
      ]
     },
     "execution_count": 18,
     "metadata": {},
     "output_type": "execute_result"
    }
   ],
   "source": [
    "Y_ref = Y_clonal.loc['A7'] # Our reference sample.  Basically an average of all cells of clonotype A7.\n",
    "Y_ref.describe()"
   ]
  },
  {
   "cell_type": "markdown",
   "metadata": {},
   "source": [
    "## Step III:  Computation of size relative to reference sample."
   ]
  },
  {
   "cell_type": "markdown",
   "metadata": {},
   "source": [
    "Now we compute relative scaling factors for each clone, based on the median fold-changes between gene expression within that clone and the reference clone (A7, we have chosen above).  Due to dropouts (values of 0 in gene expression), we discard genes with zeros when computing fold changes.  This avoids division-by-zero problems, and it matches the implementation of [Maza et al.](https://www.tandfonline.com/doi/full/10.4161/cib.25849).  (See the R code in the supplementary information).  "
   ]
  },
  {
   "cell_type": "code",
   "execution_count": 19,
   "metadata": {
    "scrolled": true
   },
   "outputs": [
    {
     "name": "stdout",
     "output_type": "stream",
     "text": [
      "A7    1.000000\n",
      "A8    1.010532\n",
      "B4    1.115866\n",
      "E4    0.972520\n",
      "F3    0.986251\n",
      "G6    1.043095\n",
      "G8    0.993050\n",
      "H2    0.949730\n",
      "H9    0.838977\n",
      "dtype: float64\n"
     ]
    }
   ],
   "source": [
    "tau = pd.Series(index = clones)\n",
    "for clone in clones: # Why not a little loop.\n",
    "    numerator = Y_clonal.loc[clone]\n",
    "    denominator = Y_ref\n",
    "    ok_genes = [gene for gene in genes_relevant if (numerator[gene] != 0) and (denominator[gene] != 0)]\n",
    "    ratios = numerator[ok_genes] / denominator[ok_genes] # The ratios.\n",
    "    tau[clone] = np.median(ratios)\n",
    "print(tau)"
   ]
  },
  {
   "cell_type": "markdown",
   "metadata": {},
   "source": [
    "## Step IV:  Adjustment of relative scaling factors."
   ]
  },
  {
   "cell_type": "markdown",
   "metadata": {},
   "source": [
    "This step does not occur in MRN normalization.  Yay!"
   ]
  },
  {
   "cell_type": "markdown",
   "metadata": {},
   "source": [
    "## Step V:  Effective library size."
   ]
  },
  {
   "cell_type": "code",
   "execution_count": 20,
   "metadata": {},
   "outputs": [
    {
     "data": {
      "text/plain": [
       "P1902_1289    E4\n",
       "P1902_1290    E4\n",
       "P1902_1291    E4\n",
       "P1902_1293    A7\n",
       "P1902_1294    A7\n",
       "Name: Clone_ID, dtype: object"
      ]
     },
     "execution_count": 20,
     "metadata": {},
     "output_type": "execute_result"
    }
   ],
   "source": [
    "#intermediate series to match the clone IDs with the samples\n",
    "meta_lib_size = pd.Series(meta_df['Clone_ID'], index=library_size.index)\n",
    "meta_lib_size.head()"
   ]
  },
  {
   "cell_type": "code",
   "execution_count": 21,
   "metadata": {},
   "outputs": [
    {
     "data": {
      "text/plain": [
       "P1902_1289    0.97252\n",
       "P1902_1290    0.97252\n",
       "P1902_1291    0.97252\n",
       "P1902_1293    1.00000\n",
       "P1902_1294    1.00000\n",
       "Name: Clone_ID, dtype: float64"
      ]
     },
     "execution_count": 21,
     "metadata": {},
     "output_type": "execute_result"
    }
   ],
   "source": [
    "#intermediate series to map tau scaling values to the samples\n",
    "scalar_lib_size = meta_lib_size.map(tau)\n",
    "scalar_lib_size.head()"
   ]
  },
  {
   "cell_type": "code",
   "execution_count": 22,
   "metadata": {},
   "outputs": [
    {
     "data": {
      "text/plain": [
       "P1902_1289    9.230417e+05\n",
       "P1902_1290    9.785782e+05\n",
       "P1902_1291    1.665652e+06\n",
       "P1902_1293    1.204950e+06\n",
       "P1902_1294    1.000783e+06\n",
       "dtype: float64"
      ]
     },
     "execution_count": 22,
     "metadata": {},
     "output_type": "execute_result"
    }
   ],
   "source": [
    "#final series, for this step at least as the library_size values are scaled by tau values\n",
    "effective_lib_size = scalar_lib_size * library_size\n",
    "effective_lib_size.head()"
   ]
  },
  {
   "cell_type": "markdown",
   "metadata": {},
   "source": [
    "## Step VI:  Computation of relative normalization/size factors."
   ]
  },
  {
   "cell_type": "code",
   "execution_count": 23,
   "metadata": {
    "scrolled": true
   },
   "outputs": [
    {
     "name": "stdout",
     "output_type": "stream",
     "text": [
      "P1902_1289    9.230417e+05\n",
      "P1902_1290    9.504043e+05\n",
      "P1902_1291    1.145866e+06\n",
      "P1902_1293    1.160359e+06\n",
      "P1902_1294    1.126528e+06\n",
      "dtype: float64\n"
     ]
    }
   ],
   "source": [
    "#factor, f\n",
    "#print(effective_lib_size.head())\n",
    "factor_log = effective_lib_size.apply(np.log)\n",
    "#print(factor_log.head())\n",
    "factor_cumsum = factor_log.cumsum()\n",
    "#print(factor_cumsum.head())\n",
    "factor_mean_by_position = factor_cumsum / list(range(1, len(library_size)+1))\n",
    "#print(factor_mean_by_position.head())\n",
    "relative_normalization_factor = factor_mean_by_position.apply(np.exp)\n",
    "print(relative_normalization_factor.head())"
   ]
  },
  {
   "cell_type": "markdown",
   "metadata": {},
   "source": [
    "## Step VII:  Normalization of counts."
   ]
  },
  {
   "cell_type": "code",
   "execution_count": 24,
   "metadata": {},
   "outputs": [
    {
     "data": {
      "text/html": [
       "<div>\n",
       "<style scoped>\n",
       "    .dataframe tbody tr th:only-of-type {\n",
       "        vertical-align: middle;\n",
       "    }\n",
       "\n",
       "    .dataframe tbody tr th {\n",
       "        vertical-align: top;\n",
       "    }\n",
       "\n",
       "    .dataframe thead th {\n",
       "        text-align: right;\n",
       "    }\n",
       "</style>\n",
       "<table border=\"1\" class=\"dataframe\">\n",
       "  <thead>\n",
       "    <tr style=\"text-align: right;\">\n",
       "      <th></th>\n",
       "      <th>A1BG</th>\n",
       "      <th>A2ML1</th>\n",
       "      <th>AAAS</th>\n",
       "      <th>AAED1</th>\n",
       "      <th>AAGAB</th>\n",
       "      <th>AAK1</th>\n",
       "      <th>AAMDC</th>\n",
       "      <th>AAMP</th>\n",
       "      <th>AAR2</th>\n",
       "      <th>AARD</th>\n",
       "      <th>...</th>\n",
       "      <th>ZSCAN32</th>\n",
       "      <th>ZSWIM1</th>\n",
       "      <th>ZSWIM7</th>\n",
       "      <th>ZSWIM8</th>\n",
       "      <th>ZUFSP</th>\n",
       "      <th>ZWILCH</th>\n",
       "      <th>ZWINT</th>\n",
       "      <th>ZYX</th>\n",
       "      <th>ZZEF1</th>\n",
       "      <th>ZZZ3</th>\n",
       "    </tr>\n",
       "  </thead>\n",
       "  <tbody>\n",
       "    <tr>\n",
       "      <th>P1902_1289</th>\n",
       "      <td>117.0</td>\n",
       "      <td>13.868527</td>\n",
       "      <td>0.0</td>\n",
       "      <td>5.287210</td>\n",
       "      <td>2.000000</td>\n",
       "      <td>12.734072</td>\n",
       "      <td>0.028591</td>\n",
       "      <td>0.0</td>\n",
       "      <td>0.116403</td>\n",
       "      <td>0.001068</td>\n",
       "      <td>...</td>\n",
       "      <td>0.0</td>\n",
       "      <td>1.375365</td>\n",
       "      <td>0.533330</td>\n",
       "      <td>0.0</td>\n",
       "      <td>0.0</td>\n",
       "      <td>1.729030</td>\n",
       "      <td>0.0</td>\n",
       "      <td>3.000001</td>\n",
       "      <td>0.0</td>\n",
       "      <td>0.0</td>\n",
       "    </tr>\n",
       "    <tr>\n",
       "      <th>P1902_1290</th>\n",
       "      <td>0.0</td>\n",
       "      <td>0.029047</td>\n",
       "      <td>0.0</td>\n",
       "      <td>1.299025</td>\n",
       "      <td>0.000000</td>\n",
       "      <td>2.606228</td>\n",
       "      <td>0.005858</td>\n",
       "      <td>0.0</td>\n",
       "      <td>0.000000</td>\n",
       "      <td>0.001885</td>\n",
       "      <td>...</td>\n",
       "      <td>0.0</td>\n",
       "      <td>0.044812</td>\n",
       "      <td>0.056318</td>\n",
       "      <td>0.0</td>\n",
       "      <td>0.0</td>\n",
       "      <td>0.000000</td>\n",
       "      <td>0.0</td>\n",
       "      <td>0.000000</td>\n",
       "      <td>0.0</td>\n",
       "      <td>0.0</td>\n",
       "    </tr>\n",
       "    <tr>\n",
       "      <th>P1902_1291</th>\n",
       "      <td>0.0</td>\n",
       "      <td>6.034052</td>\n",
       "      <td>0.0</td>\n",
       "      <td>8.860240</td>\n",
       "      <td>202.999549</td>\n",
       "      <td>79.964810</td>\n",
       "      <td>4.312488</td>\n",
       "      <td>0.0</td>\n",
       "      <td>0.000000</td>\n",
       "      <td>0.541295</td>\n",
       "      <td>...</td>\n",
       "      <td>0.0</td>\n",
       "      <td>3.498300</td>\n",
       "      <td>12.646880</td>\n",
       "      <td>0.0</td>\n",
       "      <td>0.0</td>\n",
       "      <td>0.002202</td>\n",
       "      <td>0.0</td>\n",
       "      <td>38.000050</td>\n",
       "      <td>0.0</td>\n",
       "      <td>0.0</td>\n",
       "    </tr>\n",
       "    <tr>\n",
       "      <th>P1902_1293</th>\n",
       "      <td>0.0</td>\n",
       "      <td>8.431259</td>\n",
       "      <td>0.0</td>\n",
       "      <td>161.498600</td>\n",
       "      <td>0.000000</td>\n",
       "      <td>114.433240</td>\n",
       "      <td>0.219493</td>\n",
       "      <td>0.0</td>\n",
       "      <td>0.000000</td>\n",
       "      <td>0.034687</td>\n",
       "      <td>...</td>\n",
       "      <td>0.0</td>\n",
       "      <td>0.937325</td>\n",
       "      <td>317.941869</td>\n",
       "      <td>0.0</td>\n",
       "      <td>0.0</td>\n",
       "      <td>0.000000</td>\n",
       "      <td>0.0</td>\n",
       "      <td>0.000000</td>\n",
       "      <td>0.0</td>\n",
       "      <td>0.0</td>\n",
       "    </tr>\n",
       "    <tr>\n",
       "      <th>P1902_1294</th>\n",
       "      <td>0.0</td>\n",
       "      <td>0.157061</td>\n",
       "      <td>0.0</td>\n",
       "      <td>25.756050</td>\n",
       "      <td>0.000000</td>\n",
       "      <td>0.459234</td>\n",
       "      <td>330.002938</td>\n",
       "      <td>0.0</td>\n",
       "      <td>0.016619</td>\n",
       "      <td>4.024350</td>\n",
       "      <td>...</td>\n",
       "      <td>0.0</td>\n",
       "      <td>0.541008</td>\n",
       "      <td>7.773565</td>\n",
       "      <td>0.0</td>\n",
       "      <td>0.0</td>\n",
       "      <td>0.000301</td>\n",
       "      <td>0.0</td>\n",
       "      <td>0.000000</td>\n",
       "      <td>0.0</td>\n",
       "      <td>0.0</td>\n",
       "    </tr>\n",
       "  </tbody>\n",
       "</table>\n",
       "<p>5 rows × 8627 columns</p>\n",
       "</div>"
      ],
      "text/plain": [
       "             A1BG      A2ML1  AAAS       AAED1       AAGAB        AAK1  \\\n",
       "P1902_1289  117.0  13.868527   0.0    5.287210    2.000000   12.734072   \n",
       "P1902_1290    0.0   0.029047   0.0    1.299025    0.000000    2.606228   \n",
       "P1902_1291    0.0   6.034052   0.0    8.860240  202.999549   79.964810   \n",
       "P1902_1293    0.0   8.431259   0.0  161.498600    0.000000  114.433240   \n",
       "P1902_1294    0.0   0.157061   0.0   25.756050    0.000000    0.459234   \n",
       "\n",
       "                 AAMDC  AAMP      AAR2      AARD  ...  ZSCAN32    ZSWIM1  \\\n",
       "P1902_1289    0.028591   0.0  0.116403  0.001068  ...      0.0  1.375365   \n",
       "P1902_1290    0.005858   0.0  0.000000  0.001885  ...      0.0  0.044812   \n",
       "P1902_1291    4.312488   0.0  0.000000  0.541295  ...      0.0  3.498300   \n",
       "P1902_1293    0.219493   0.0  0.000000  0.034687  ...      0.0  0.937325   \n",
       "P1902_1294  330.002938   0.0  0.016619  4.024350  ...      0.0  0.541008   \n",
       "\n",
       "                ZSWIM7  ZSWIM8  ZUFSP    ZWILCH  ZWINT        ZYX  ZZEF1  ZZZ3  \n",
       "P1902_1289    0.533330     0.0    0.0  1.729030    0.0   3.000001    0.0   0.0  \n",
       "P1902_1290    0.056318     0.0    0.0  0.000000    0.0   0.000000    0.0   0.0  \n",
       "P1902_1291   12.646880     0.0    0.0  0.002202    0.0  38.000050    0.0   0.0  \n",
       "P1902_1293  317.941869     0.0    0.0  0.000000    0.0   0.000000    0.0   0.0  \n",
       "P1902_1294    7.773565     0.0    0.0  0.000301    0.0   0.000000    0.0   0.0  \n",
       "\n",
       "[5 rows x 8627 columns]"
      ]
     },
     "execution_count": 24,
     "metadata": {},
     "output_type": "execute_result"
    }
   ],
   "source": [
    "X.head()"
   ]
  },
  {
   "cell_type": "code",
   "execution_count": 25,
   "metadata": {},
   "outputs": [
    {
     "data": {
      "text/html": [
       "<div>\n",
       "<style scoped>\n",
       "    .dataframe tbody tr th:only-of-type {\n",
       "        vertical-align: middle;\n",
       "    }\n",
       "\n",
       "    .dataframe tbody tr th {\n",
       "        vertical-align: top;\n",
       "    }\n",
       "\n",
       "    .dataframe thead th {\n",
       "        text-align: right;\n",
       "    }\n",
       "</style>\n",
       "<table border=\"1\" class=\"dataframe\">\n",
       "  <thead>\n",
       "    <tr style=\"text-align: right;\">\n",
       "      <th></th>\n",
       "      <th>A1BG</th>\n",
       "      <th>A2ML1</th>\n",
       "      <th>AAAS</th>\n",
       "      <th>AAED1</th>\n",
       "      <th>AAGAB</th>\n",
       "      <th>AAK1</th>\n",
       "      <th>AAMDC</th>\n",
       "      <th>AAMP</th>\n",
       "      <th>AAR2</th>\n",
       "      <th>AARD</th>\n",
       "      <th>...</th>\n",
       "      <th>ZSCAN32</th>\n",
       "      <th>ZSWIM1</th>\n",
       "      <th>ZSWIM7</th>\n",
       "      <th>ZSWIM8</th>\n",
       "      <th>ZUFSP</th>\n",
       "      <th>ZWILCH</th>\n",
       "      <th>ZWINT</th>\n",
       "      <th>ZYX</th>\n",
       "      <th>ZZEF1</th>\n",
       "      <th>ZZZ3</th>\n",
       "    </tr>\n",
       "  </thead>\n",
       "  <tbody>\n",
       "    <tr>\n",
       "      <th>P1902_1289</th>\n",
       "      <td>0.000127</td>\n",
       "      <td>1.502481e-05</td>\n",
       "      <td>0.0</td>\n",
       "      <td>0.000006</td>\n",
       "      <td>0.000002</td>\n",
       "      <td>1.379577e-05</td>\n",
       "      <td>3.097444e-08</td>\n",
       "      <td>0.0</td>\n",
       "      <td>1.261081e-07</td>\n",
       "      <td>1.157196e-09</td>\n",
       "      <td>...</td>\n",
       "      <td>0.0</td>\n",
       "      <td>1.490036e-06</td>\n",
       "      <td>5.777962e-07</td>\n",
       "      <td>0.0</td>\n",
       "      <td>0.0</td>\n",
       "      <td>1.873187e-06</td>\n",
       "      <td>0.0</td>\n",
       "      <td>0.000003</td>\n",
       "      <td>0.0</td>\n",
       "      <td>0.0</td>\n",
       "    </tr>\n",
       "    <tr>\n",
       "      <th>P1902_1290</th>\n",
       "      <td>0.000000</td>\n",
       "      <td>3.056241e-08</td>\n",
       "      <td>0.0</td>\n",
       "      <td>0.000001</td>\n",
       "      <td>0.000000</td>\n",
       "      <td>2.742231e-06</td>\n",
       "      <td>6.163577e-09</td>\n",
       "      <td>0.0</td>\n",
       "      <td>0.000000e+00</td>\n",
       "      <td>1.983861e-09</td>\n",
       "      <td>...</td>\n",
       "      <td>0.0</td>\n",
       "      <td>4.714993e-08</td>\n",
       "      <td>5.925667e-08</td>\n",
       "      <td>0.0</td>\n",
       "      <td>0.0</td>\n",
       "      <td>0.000000e+00</td>\n",
       "      <td>0.0</td>\n",
       "      <td>0.000000</td>\n",
       "      <td>0.0</td>\n",
       "      <td>0.0</td>\n",
       "    </tr>\n",
       "    <tr>\n",
       "      <th>P1902_1291</th>\n",
       "      <td>0.000000</td>\n",
       "      <td>5.265933e-06</td>\n",
       "      <td>0.0</td>\n",
       "      <td>0.000008</td>\n",
       "      <td>0.000177</td>\n",
       "      <td>6.978550e-05</td>\n",
       "      <td>3.763520e-06</td>\n",
       "      <td>0.0</td>\n",
       "      <td>0.000000e+00</td>\n",
       "      <td>4.723896e-07</td>\n",
       "      <td>...</td>\n",
       "      <td>0.0</td>\n",
       "      <td>3.052976e-06</td>\n",
       "      <td>1.103697e-05</td>\n",
       "      <td>0.0</td>\n",
       "      <td>0.0</td>\n",
       "      <td>1.921683e-09</td>\n",
       "      <td>0.0</td>\n",
       "      <td>0.000033</td>\n",
       "      <td>0.0</td>\n",
       "      <td>0.0</td>\n",
       "    </tr>\n",
       "    <tr>\n",
       "      <th>P1902_1293</th>\n",
       "      <td>0.000000</td>\n",
       "      <td>7.266075e-06</td>\n",
       "      <td>0.0</td>\n",
       "      <td>0.000139</td>\n",
       "      <td>0.000000</td>\n",
       "      <td>9.861879e-05</td>\n",
       "      <td>1.891595e-07</td>\n",
       "      <td>0.0</td>\n",
       "      <td>0.000000e+00</td>\n",
       "      <td>2.989358e-08</td>\n",
       "      <td>...</td>\n",
       "      <td>0.0</td>\n",
       "      <td>8.077887e-07</td>\n",
       "      <td>2.740029e-04</td>\n",
       "      <td>0.0</td>\n",
       "      <td>0.0</td>\n",
       "      <td>0.000000e+00</td>\n",
       "      <td>0.0</td>\n",
       "      <td>0.000000</td>\n",
       "      <td>0.0</td>\n",
       "      <td>0.0</td>\n",
       "    </tr>\n",
       "    <tr>\n",
       "      <th>P1902_1294</th>\n",
       "      <td>0.000000</td>\n",
       "      <td>1.394204e-07</td>\n",
       "      <td>0.0</td>\n",
       "      <td>0.000023</td>\n",
       "      <td>0.000000</td>\n",
       "      <td>4.076543e-07</td>\n",
       "      <td>2.929381e-04</td>\n",
       "      <td>0.0</td>\n",
       "      <td>1.475258e-08</td>\n",
       "      <td>3.572348e-06</td>\n",
       "      <td>...</td>\n",
       "      <td>0.0</td>\n",
       "      <td>4.802437e-07</td>\n",
       "      <td>6.900463e-06</td>\n",
       "      <td>0.0</td>\n",
       "      <td>0.0</td>\n",
       "      <td>2.670107e-10</td>\n",
       "      <td>0.0</td>\n",
       "      <td>0.000000</td>\n",
       "      <td>0.0</td>\n",
       "      <td>0.0</td>\n",
       "    </tr>\n",
       "  </tbody>\n",
       "</table>\n",
       "<p>5 rows × 8627 columns</p>\n",
       "</div>"
      ],
      "text/plain": [
       "                A1BG         A2ML1  AAAS     AAED1     AAGAB          AAK1  \\\n",
       "P1902_1289  0.000127  1.502481e-05   0.0  0.000006  0.000002  1.379577e-05   \n",
       "P1902_1290  0.000000  3.056241e-08   0.0  0.000001  0.000000  2.742231e-06   \n",
       "P1902_1291  0.000000  5.265933e-06   0.0  0.000008  0.000177  6.978550e-05   \n",
       "P1902_1293  0.000000  7.266075e-06   0.0  0.000139  0.000000  9.861879e-05   \n",
       "P1902_1294  0.000000  1.394204e-07   0.0  0.000023  0.000000  4.076543e-07   \n",
       "\n",
       "                   AAMDC  AAMP          AAR2          AARD  ...  ZSCAN32  \\\n",
       "P1902_1289  3.097444e-08   0.0  1.261081e-07  1.157196e-09  ...      0.0   \n",
       "P1902_1290  6.163577e-09   0.0  0.000000e+00  1.983861e-09  ...      0.0   \n",
       "P1902_1291  3.763520e-06   0.0  0.000000e+00  4.723896e-07  ...      0.0   \n",
       "P1902_1293  1.891595e-07   0.0  0.000000e+00  2.989358e-08  ...      0.0   \n",
       "P1902_1294  2.929381e-04   0.0  1.475258e-08  3.572348e-06  ...      0.0   \n",
       "\n",
       "                  ZSWIM1        ZSWIM7  ZSWIM8  ZUFSP        ZWILCH  ZWINT  \\\n",
       "P1902_1289  1.490036e-06  5.777962e-07     0.0    0.0  1.873187e-06    0.0   \n",
       "P1902_1290  4.714993e-08  5.925667e-08     0.0    0.0  0.000000e+00    0.0   \n",
       "P1902_1291  3.052976e-06  1.103697e-05     0.0    0.0  1.921683e-09    0.0   \n",
       "P1902_1293  8.077887e-07  2.740029e-04     0.0    0.0  0.000000e+00    0.0   \n",
       "P1902_1294  4.802437e-07  6.900463e-06     0.0    0.0  2.670107e-10    0.0   \n",
       "\n",
       "                 ZYX  ZZEF1  ZZZ3  \n",
       "P1902_1289  0.000003    0.0   0.0  \n",
       "P1902_1290  0.000000    0.0   0.0  \n",
       "P1902_1291  0.000033    0.0   0.0  \n",
       "P1902_1293  0.000000    0.0   0.0  \n",
       "P1902_1294  0.000000    0.0   0.0  \n",
       "\n",
       "[5 rows x 8627 columns]"
      ]
     },
     "execution_count": 25,
     "metadata": {},
     "output_type": "execute_result"
    }
   ],
   "source": [
    "# here we normalize our raw counts by the relative normalization factor we just\n",
    "# calculated in step vi\n",
    "mrn_counts = X.div(relative_normalization_factor, axis=0)\n",
    "mrn_counts.head()"
   ]
  },
  {
   "cell_type": "markdown",
   "metadata": {},
   "source": [
    "##### Just a lil thing i found from diffTF\n",
    "I thought this is relevant # Perform a cyclic loess normalization\n",
    "    We use a slighlty more complicated setup to derive size factors for library normalization\n",
    "   Instead of just determining the size factors in DeSeq2 via cirtual samples, we use\n",
    "    a normalization from the csaw package (see https://www.rdocumentation.org/packages/csaw/versions/1.6.1/topics/normOffsets)\n",
    "    and apply a non-linear normalization.\n",
    "    For each sample, a lowess curve is fitted to the log-counts against the log-average count.\n",
    "    The fitted value for each bin pair is used as the generalized linear model offset for that sample.\n",
    "   The use of the average count provides more stability than the average log-count when low counts are present for differentially bound regions."
   ]
  },
  {
   "cell_type": "markdown",
   "metadata": {},
   "source": [
    "# 4.  Quick shot at machine learning\n",
    "\n",
    "After preprocessing the data, one might want to quickly check how well gene expression can predict clonotype.  The following steps will test out a linear support vector classifier. "
   ]
  },
  {
   "cell_type": "code",
   "execution_count": 26,
   "metadata": {},
   "outputs": [],
   "source": [
    "import statsmodels.api as sm\n",
    "\n",
    "# Import various functions for stats.\n",
    "from scipy.stats import f_oneway, binom, binom_test, kruskal, norm # For p-values, kruskal-wallis, Gaussian\n",
    "from scipy.stats import kurtosis, skew # For detecting bimodality\n",
    "from statsmodels.formula.api import ols\n",
    "\n",
    "from bisect import bisect # See bisect.bisect.\n",
    "from itertools import compress # I don't recall why this is here.\n",
    "\n",
    "# Import from scikit, for machine learning.\n",
    "# from sklearn import mixture  # Import Gaussian mixture\n",
    "\n",
    "from sklearn.preprocessing import Binarizer, MinMaxScaler\n",
    "\n",
    "from sklearn.model_selection import ShuffleSplit, train_test_split, GridSearchCV\n",
    "\n",
    "from sklearn.feature_selection import SelectKBest, chi2, f_classif\n",
    "\n",
    "from sklearn.metrics import accuracy_score\n",
    "\n",
    "from sklearn.svm import LinearSVC # Linear Support Vector Classifier \n",
    "from sklearn.pipeline import make_pipeline\n",
    "from sklearn.pipeline import Pipeline\n",
    " \n",
    "from sklearn.cluster import MiniBatchKMeans, KMeans\n",
    "from sklearn.metrics.pairwise import pairwise_distances_argmin\n",
    "\n",
    "from sklearn.manifold import TSNE\n"
   ]
  },
  {
   "cell_type": "code",
   "execution_count": 27,
   "metadata": {},
   "outputs": [],
   "source": [
    "#X = X_normalized\n",
    "X_cells = mrn_counts.index\n",
    "y = meta_df.loc[X_cells].Clone_ID"
   ]
  },
  {
   "cell_type": "code",
   "execution_count": 28,
   "metadata": {},
   "outputs": [],
   "source": [
    "SVMpipe = make_pipeline(MinMaxScaler(), \n",
    "                        SelectKBest(score_func = f_classif, k=100), \n",
    "                        LinearSVC(random_state=0, tol=1e-4, max_iter = 2000))"
   ]
  },
  {
   "cell_type": "code",
   "execution_count": 29,
   "metadata": {},
   "outputs": [
    {
     "data": {
      "text/plain": [
       "GridSearchCV(cv=5, error_score='raise-deprecating',\n",
       "             estimator=Pipeline(memory=None,\n",
       "                                steps=[('minmaxscaler',\n",
       "                                        MinMaxScaler(copy=True,\n",
       "                                                     feature_range=(0, 1))),\n",
       "                                       ('selectkbest',\n",
       "                                        SelectKBest(k=100,\n",
       "                                                    score_func=<function f_classif at 0x1a1c0f3c80>)),\n",
       "                                       ('linearsvc',\n",
       "                                        LinearSVC(C=1.0, class_weight=None,\n",
       "                                                  dual=True, fit_intercept=True,\n",
       "                                                  intercept_scaling=1,\n",
       "                                                  loss='squared_hinge',\n",
       "                                                  max_iter=2000,\n",
       "                                                  multi_class='ovr',\n",
       "                                                  penalty='l2', random_state=0,\n",
       "                                                  tol=0.0001, verbose=0))],\n",
       "                                verbose=False),\n",
       "             iid=False, n_jobs=None,\n",
       "             param_grid={'linearsvc__C': [0.001, 0.01, 0.1, 1.0, 10, 100],\n",
       "                         'selectkbest__k': range(50, 251, 25)},\n",
       "             pre_dispatch='2*n_jobs', refit=True, return_train_score=False,\n",
       "             scoring=None, verbose=0)"
      ]
     },
     "execution_count": 29,
     "metadata": {},
     "output_type": "execute_result"
    }
   ],
   "source": [
    "# DANGER DANGER:  The following suppresses all warnings from Python.\n",
    "# Otherwise, you'll probably get a bunch of convergence warnings...\n",
    "# Alternatively, increase the number of iterations in the SVM.\n",
    "\n",
    "import warnings\n",
    "warnings.filterwarnings('ignore') # Ignore warnings.\n",
    "\n",
    "param_grid = dict(linearsvc__C=[0.001, 0.01, 0.1, 1.0, 10, 100],\n",
    "                  selectkbest__k = range(50,251,25),\n",
    "                 )\n",
    "\n",
    "grid_search = GridSearchCV(SVMpipe, param_grid=param_grid, cv=5, iid=False) #5-fold cross-validation.\n",
    "grid_search.fit(X,y)"
   ]
  },
  {
   "cell_type": "code",
   "execution_count": 30,
   "metadata": {},
   "outputs": [],
   "source": [
    "def CV_map(gs, swap=False):  # parameter_grid and grid_search.\n",
    "    '''\n",
    "    A general-purpose visualization for grid-search cross-validations.\n",
    "    Displays predictive accuracy as a heatmap, based on different\n",
    "    choices of parameters.  Displays optimal parameters in title.\n",
    "    \n",
    "    Args:\n",
    "        gs (sklearn.model_selection.GridSearchCV):  The grid-search object.\n",
    "        swap:  Set to True to switch the axes.\n",
    "        \n",
    "    Returns:\n",
    "        None\n",
    "        \n",
    "    '''\n",
    "    results = gs.cv_results_\n",
    "    means = results['mean_test_score']\n",
    "    params = list(gs.param_grid.keys())\n",
    "    \n",
    "    ser = pd.Series(list(means),\n",
    "                  index=pd.MultiIndex.from_tuples(\n",
    "                      [tuple(d.values()) for d in results['params']])\n",
    "               )\n",
    "    gs_df = ser.unstack().fillna(0)\n",
    "    gs_df.shape \n",
    "    if swap:\n",
    "        gs_df = gs_df.transpose()\n",
    "        params = params[::-1] # Switch the order of the parameter list.\n",
    "    \n",
    "    f, ax = plt.subplots(figsize=(12,12))\n",
    "    sns.heatmap(gs_df, annot=True, square=True, fmt=\"2.0%\", linewidths=.5, \n",
    "                cbar_kws={'fraction':0.025, 'pad':0.05}, ax=ax)\n",
    "    cbar = ax.collections[0].colorbar\n",
    "    cbar.set_ticks([.5, .6, .7, .8, .9])\n",
    "    cbar.set_ticklabels(['50%', '60%', '70%', '80%', '90%'])\n",
    "    ax.set_xlabel(params[1])\n",
    "    ax.set_ylabel(params[0])\n",
    "    plt.yticks(rotation=0)\n",
    "    bestacc = gs.best_score_\n",
    "    ax.set_title(\"Result of grid-search with 5-fold cross-validation. \\n\"\n",
    "                 \"Best score {0:2.1%} with parameters \\n\"\n",
    "                 \"{1} \".format(gs.best_score_, gs.best_params_))"
   ]
  },
  {
   "cell_type": "code",
   "execution_count": 31,
   "metadata": {},
   "outputs": [
    {
     "data": {
      "image/png": "[encoded data removed]",
      "text/plain": [
       "<Figure size 864x864 with 2 Axes>"
      ]
     },
     "metadata": {
      "needs_background": "light"
     },
     "output_type": "display_data"
    }
   ],
   "source": [
    "CV_map(grid_search)"
   ]
  },
  {
   "cell_type": "code",
   "execution_count": 32,
   "metadata": {},
   "outputs": [],
   "source": [
    "from sklearn import base\n",
    "\n",
    "def confusion_matrix(X,y,pipe, reps=2, classlist = None):\n",
    "    if classlist:\n",
    "        classes = classlist\n",
    "    else:\n",
    "        classes = sorted(y.unique())\n",
    "    counts = pd.DataFrame(0, index=classes, columns=classes)\n",
    "    cpops = pd.DataFrame(0, index=classes, columns=['pop'])\n",
    "    correct = 0\n",
    "    total = 0\n",
    "    for t in range(reps):\n",
    "        this_pipe = base.clone(pipe)\n",
    "        X_train, X_test, y_train, y_test = train_test_split(X, y, test_size=0.2)\n",
    "        this_pipe.fit(X_train, y_train)\n",
    "        y_pred = this_pipe.predict(X_test)\n",
    "        actual = y_test\n",
    "        predicted = y_pred\n",
    "        for j in range(len(y_test)):\n",
    "            total += 1\n",
    "            if y_test[j] == y_pred[j]:\n",
    "                correct += 1\n",
    "            cpops.loc[y_test[j],'pop'] += 1\n",
    "            counts.loc[y_test[j], y_pred[j]] += 1\n",
    "    \n",
    "    valid = counts.apply(lambda column : column/cpops['pop']) #['pop'] )\n",
    "    \n",
    "    f, ax = plt.subplots(figsize=(len(classes)+1,len(classes)))\n",
    "    sns.heatmap(valid, annot=valid, square=True, fmt=\"2.0%\", linewidths=.5, \n",
    "                cbar_kws={'fraction':0.046, 'pad':0.04}, ax=ax)\n",
    "    cbar = ax.collections[0].colorbar\n",
    "    cbar.set_ticks([0, .25, .5, .75, 1])\n",
    "    cbar.set_ticklabels(['0%', '25%', '50%', '75%', '100%'])\n",
    "    ax.set_ylabel(\"Actual class\")\n",
    "    ax.set_xlabel(\"Predicted class\")\n",
    "    ax.set_title(\"Overall prediction accuracy {:0.3%}. \\n\"\n",
    "                 \"{} trials, in {} batches with independent splits.\".format(correct/total, total, reps))"
   ]
  },
  {
   "cell_type": "code",
   "execution_count": 33,
   "metadata": {},
   "outputs": [
    {
     "data": {
      "image/png": "[encoded data removed]",
      "text/plain": [
       "<Figure size 720x648 with 2 Axes>"
      ]
     },
     "metadata": {
      "needs_background": "light"
     },
     "output_type": "display_data"
    }
   ],
   "source": [
    "opt_k = grid_search.best_params_['selectkbest__k'] # Use optimal number of genes.\n",
    "opt_C = grid_search.best_params_['linearsvc__C'] # Use optimal C-parameter for linear SVM.\n",
    "\n",
    "SVMpipe = make_pipeline(MinMaxScaler(), \n",
    "                        SelectKBest(score_func = f_classif, k=opt_k), \n",
    "                        LinearSVC(random_state=0, tol=1e-4, max_iter = 2000, C=opt_C))\n",
    "\n",
    "confusion_matrix(X,y,SVMpipe, reps=50, classlist = clones)"
   ]
  },
  {
   "cell_type": "code",
   "execution_count": null,
   "metadata": {},
   "outputs": [],
   "source": []
  }
 ],
 "metadata": {
  "kernelspec": {
   "display_name": "Python 3",
   "language": "python",
   "name": "python3"
  },
  "language_info": {
   "codemirror_mode": {
    "name": "ipython",
    "version": 3
   },
   "file_extension": ".py",
   "mimetype": "text/x-python",
   "name": "python",
   "nbconvert_exporter": "python",
   "pygments_lexer": "ipython3",
   "version": "3.7.3"
  }
 },
 "nbformat": 4,
 "nbformat_minor": 2
}
